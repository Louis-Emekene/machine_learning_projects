{
  "nbformat": 4,
  "nbformat_minor": 0,
  "metadata": {
    "colab": {
      "provenance": []
    },
    "kernelspec": {
      "name": "python3",
      "display_name": "Python 3"
    },
    "language_info": {
      "name": "python"
    }
  },
  "cells": [
    {
      "cell_type": "markdown",
      "source": [
        "# **HAND WRITTEN DIGITS CLASSIFIER USING AN MLP**"
      ],
      "metadata": {
        "id": "QyG232bS20me"
      }
    },
    {
      "cell_type": "markdown",
      "source": [
        "This project aims to develop a multilayer perceptron that is capable of identifying handwritten digits from 0 to 9."
      ],
      "metadata": {
        "id": "ZiXnRB9yIuFo"
      }
    },
    {
      "cell_type": "code",
      "execution_count": 4,
      "metadata": {
        "id": "7PXY8za82bnb"
      },
      "outputs": [],
      "source": [
        "# imports here\n",
        "import numpy as np\n",
        "import pandas as pd\n",
        "import matplotlib.pyplot as plt\n",
        "import torch\n",
        "import torchvision\n",
        "import torchvision.transforms as transforms\n",
        "import torch.nn as nn\n",
        "import torch.nn.functional as F\n",
        "import torch.optim as optim\n",
        "%matplotlib inline"
      ]
    },
    {
      "cell_type": "code",
      "source": [],
      "metadata": {
        "id": "GA3udtpA3MyL"
      },
      "execution_count": null,
      "outputs": []
    }
  ]
}