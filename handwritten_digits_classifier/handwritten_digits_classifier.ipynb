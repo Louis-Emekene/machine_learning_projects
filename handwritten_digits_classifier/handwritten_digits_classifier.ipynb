{
  "nbformat": 4,
  "nbformat_minor": 0,
  "metadata": {
    "colab": {
      "provenance": []
    },
    "kernelspec": {
      "name": "python3",
      "display_name": "Python 3"
    },
    "language_info": {
      "name": "python"
    }
  },
  "cells": [
    {
      "cell_type": "markdown",
      "source": [
        "# **HAND WRITTEN DIGITS CLASSIFIER USING AN MLP**"
      ],
      "metadata": {
        "id": "QyG232bS20me"
      }
    },
    {
      "cell_type": "markdown",
      "source": [
        "This project aims to develop a multilayer perceptron that is capable of identifying handwritten digits from 0 to 9.\n",
        "\n",
        "\n",
        "The MNIST dataset is a widely used collection of handwritten digits that is commonly employed for training various machine learning algorithms, especially in the field of computer vision. MNIST stands for Modified National Institute of Standards and Technology database. It consists of 60,000 training images and 10,000 test images, each containing grayscale images of handwritten digits from 0 to 9. The images are 28x28 pixels in size, making them relatively small and easy to work with computationally. MNIST has been a benchmark dataset in the field of machine learning for evaluating and comparing the performance of different algorithms in tasks like classification and digit recognition."
      ],
      "metadata": {
        "id": "ZiXnRB9yIuFo"
      }
    },
    {
      "cell_type": "code",
      "execution_count": null,
      "metadata": {
        "id": "7PXY8za82bnb"
      },
      "outputs": [],
      "source": [
        "# imports here\n",
        "import numpy as np\n",
        "import pandas as pd\n",
        "import matplotlib.pyplot as plt\n",
        "import torch\n",
        "import torchvision\n",
        "import torchvision.transforms as transforms\n",
        "import torch.nn as nn\n",
        "import torch.nn.functional as F\n",
        "import torch.optim as optim\n",
        "%matplotlib inline"
      ]
    },
    {
      "cell_type": "markdown",
      "source": [
        "Transformations Definition: It defines a series of transformations (transforms.Compose) to be applied to the dataset. In this case, it converts the images into PyTorch tensors (transforms.ToTensor()) and normalizes their pixel values to a range of [-1, 1] (transforms.Normalize()).\n",
        "\n",
        "Dataset Loading: It loads the MNIST dataset, both for training (train_dataset) and testing (test_dataset). The torchvision.datasets.MNIST class is used for this purpose. The dataset is downloaded if it's not already present, and the specified transformations are applied during loading.\n",
        "\n",
        "Data Loaders Creation: It creates data loaders (train_loader and test_loader) using torch.utils.data.DataLoader. Data loaders provide convenient batch processing and shuffling of the dataset during training. Here, a batch size of 64 is specified for both training and testing data.\n",
        "\n",
        "Display Dataset Sizes: It prints the sizes of the training and test datasets. This is useful for understanding the amount of data available for training and evaluation purposes."
      ],
      "metadata": {
        "id": "X6U2wjRZFVK6"
      }
    },
    {
      "cell_type": "code",
      "source": [
        "# Define transformations to be applied to the data\n",
        "transform = transforms.Compose([\n",
        "    transforms.ToTensor(),  # Convert images to tensors\n",
        "    transforms.Normalize((0.5,), (0.5,))  # Normalize the pixel values to the range [-1, 1]\n",
        "])\n",
        "\n",
        "# Load MNIST dataset\n",
        "train_dataset = torchvision.datasets.MNIST(root='./data', train=True, download=True, transform=transform)\n",
        "test_dataset = torchvision.datasets.MNIST(root='./data', train=False, download=True, transform=transform)\n",
        "\n",
        "# Create data loaders\n",
        "train_loader = torch.utils.data.DataLoader(train_dataset, batch_size=64, shuffle=True)\n",
        "test_loader = torch.utils.data.DataLoader(test_dataset, batch_size=64, shuffle=False)\n",
        "\n",
        "# Display the size of the dataset\n",
        "print(\"Training data size:\", len(train_dataset))\n",
        "print(\"Test data size:\", len(test_dataset))"
      ],
      "metadata": {
        "id": "GA3udtpA3MyL",
        "colab": {
          "base_uri": "https://localhost:8080/"
        },
        "outputId": "bb67f1b3-5bfa-4afc-a1a7-f2eedf45d9d7"
      },
      "execution_count": null,
      "outputs": [
        {
          "output_type": "stream",
          "name": "stdout",
          "text": [
            "Downloading http://yann.lecun.com/exdb/mnist/train-images-idx3-ubyte.gz\n",
            "Failed to download (trying next):\n",
            "HTTP Error 403: Forbidden\n",
            "\n",
            "Downloading https://ossci-datasets.s3.amazonaws.com/mnist/train-images-idx3-ubyte.gz\n",
            "Downloading https://ossci-datasets.s3.amazonaws.com/mnist/train-images-idx3-ubyte.gz to ./data/MNIST/raw/train-images-idx3-ubyte.gz\n"
          ]
        },
        {
          "output_type": "stream",
          "name": "stderr",
          "text": [
            "100%|██████████| 9912422/9912422 [00:00<00:00, 16210687.07it/s]\n"
          ]
        },
        {
          "output_type": "stream",
          "name": "stdout",
          "text": [
            "Extracting ./data/MNIST/raw/train-images-idx3-ubyte.gz to ./data/MNIST/raw\n",
            "\n",
            "Downloading http://yann.lecun.com/exdb/mnist/train-labels-idx1-ubyte.gz\n",
            "Failed to download (trying next):\n",
            "HTTP Error 403: Forbidden\n",
            "\n",
            "Downloading https://ossci-datasets.s3.amazonaws.com/mnist/train-labels-idx1-ubyte.gz\n",
            "Downloading https://ossci-datasets.s3.amazonaws.com/mnist/train-labels-idx1-ubyte.gz to ./data/MNIST/raw/train-labels-idx1-ubyte.gz\n"
          ]
        },
        {
          "output_type": "stream",
          "name": "stderr",
          "text": [
            "100%|██████████| 28881/28881 [00:00<00:00, 506971.18it/s]\n"
          ]
        },
        {
          "output_type": "stream",
          "name": "stdout",
          "text": [
            "Extracting ./data/MNIST/raw/train-labels-idx1-ubyte.gz to ./data/MNIST/raw\n",
            "\n",
            "Downloading http://yann.lecun.com/exdb/mnist/t10k-images-idx3-ubyte.gz\n",
            "Failed to download (trying next):\n",
            "HTTP Error 403: Forbidden\n",
            "\n",
            "Downloading https://ossci-datasets.s3.amazonaws.com/mnist/t10k-images-idx3-ubyte.gz\n",
            "Downloading https://ossci-datasets.s3.amazonaws.com/mnist/t10k-images-idx3-ubyte.gz to ./data/MNIST/raw/t10k-images-idx3-ubyte.gz\n"
          ]
        },
        {
          "output_type": "stream",
          "name": "stderr",
          "text": [
            "100%|██████████| 1648877/1648877 [00:00<00:00, 4394837.06it/s]\n"
          ]
        },
        {
          "output_type": "stream",
          "name": "stdout",
          "text": [
            "Extracting ./data/MNIST/raw/t10k-images-idx3-ubyte.gz to ./data/MNIST/raw\n",
            "\n",
            "Downloading http://yann.lecun.com/exdb/mnist/t10k-labels-idx1-ubyte.gz\n",
            "Failed to download (trying next):\n",
            "HTTP Error 403: Forbidden\n",
            "\n",
            "Downloading https://ossci-datasets.s3.amazonaws.com/mnist/t10k-labels-idx1-ubyte.gz\n",
            "Downloading https://ossci-datasets.s3.amazonaws.com/mnist/t10k-labels-idx1-ubyte.gz to ./data/MNIST/raw/t10k-labels-idx1-ubyte.gz\n"
          ]
        },
        {
          "output_type": "stream",
          "name": "stderr",
          "text": [
            "100%|██████████| 4542/4542 [00:00<00:00, 1754192.34it/s]\n"
          ]
        },
        {
          "output_type": "stream",
          "name": "stdout",
          "text": [
            "Extracting ./data/MNIST/raw/t10k-labels-idx1-ubyte.gz to ./data/MNIST/raw\n",
            "\n",
            "Training data size: 60000\n",
            "Test data size: 10000\n"
          ]
        }
      ]
    },
    {
      "cell_type": "markdown",
      "source": [
        "This code selects 5 random samples from the training dataset. It then plots these samples as images in a single row with their corresponding labels as titles, using matplotlib. Each subplot displays an image with its associated label. Finally, the plot is displayed."
      ],
      "metadata": {
        "id": "MZPIS0sV-_Hm"
      }
    },
    {
      "cell_type": "code",
      "source": [
        "# Get 5 random samples from the training dataset\n",
        "samples = [train_dataset[i] for i in range(5)]\n",
        "\n",
        "# Plot the samples\n",
        "plt.figure(figsize=(10, 5))\n",
        "for i in range(5):\n",
        "    plt.subplot(1, 5, i + 1)\n",
        "    image, label = samples[i]\n",
        "    plt.imshow(image.squeeze(), cmap='gray')\n",
        "    plt.title(f\"Label: {label}\")\n",
        "    plt.axis('off')\n",
        "plt.show()"
      ],
      "metadata": {
        "colab": {
          "base_uri": "https://localhost:8080/",
          "height": 192
        },
        "id": "IO4I0ygmWVTY",
        "outputId": "207d779c-a0bf-4a5d-ca99-f9f1e99bb57d"
      },
      "execution_count": null,
      "outputs": [
        {
          "output_type": "display_data",
          "data": {
            "text/plain": [
              "<Figure size 1000x500 with 5 Axes>"
            ],
            "image/png": "[encoded data removed]"
          },
          "metadata": {}
        }
      ]
    },
    {
      "cell_type": "code",
      "source": [
        "# Get 5 random samples from the test dataset\n",
        "samples = [test_dataset[i] for i in range(5)]\n",
        "\n",
        "# Plot the samples\n",
        "plt.figure(figsize=(10, 5))\n",
        "for i in range(5):\n",
        "    plt.subplot(1, 5, i + 1)\n",
        "    image, label = samples[i]\n",
        "    plt.imshow(image.squeeze(), cmap='gray')\n",
        "    plt.title(f\"Label: {label}\")\n",
        "    plt.axis('off')\n",
        "plt.show()"
      ],
      "metadata": {
        "colab": {
          "base_uri": "https://localhost:8080/",
          "height": 192
        },
        "id": "hKFkeNB8Wgt3",
        "outputId": "79bb173a-1a87-4d85-8896-0c3a2e636ac8"
      },
      "execution_count": null,
      "outputs": [
        {
          "output_type": "display_data",
          "data": {
            "text/plain": [
              "<Figure size 1000x500 with 5 Axes>"
            ],
            "image/png": "[encoded data removed]"
          },
          "metadata": {}
        }
      ]
    },
    {
      "cell_type": "code",
      "source": [
        "# Define a simple MLP model\n",
        "class MLP(nn.Module):\n",
        "    def __init__(self):\n",
        "        super(MLP, self).__init__()\n",
        "        self.fc1 = nn.Linear(28*28, 128)\n",
        "        self.fc2 = nn.Linear(128, 64)\n",
        "        self.fc3 = nn.Linear(64, 10)\n",
        "\n",
        "    def forward(self, x):\n",
        "        x = x.view(-1, 28*28)  # Flatten the input image\n",
        "        x = F.relu(self.fc1(x))\n",
        "        x = F.relu(self.fc2(x))\n",
        "        x = self.fc3(x)\n",
        "        return x"
      ],
      "metadata": {
        "id": "YbIjSEkCW5g2"
      },
      "execution_count": null,
      "outputs": []
    },
    {
      "cell_type": "code",
      "source": [
        "import matplotlib.pyplot as plt\n",
        "\n",
        "# Initialize the model, loss function, and optimizer\n",
        "model = MLP()\n",
        "criterion = nn.CrossEntropyLoss()\n",
        "optimizer = optim.SGD(model.parameters(), lr=0.001)\n",
        "\n",
        "# Lists to store training loss and accuracy values\n",
        "training_loss_values = []\n",
        "training_accuracy_values = []\n",
        "\n",
        "# Training loop\n",
        "for epoch in range(20):  # number of epochs needed for training\n",
        "    running_loss = 0.0\n",
        "    correct_predictions = 0\n",
        "    total_predictions = 0\n",
        "\n",
        "    for i, data in enumerate(train_loader, 0):\n",
        "        inputs, labels = data\n",
        "        optimizer.zero_grad()\n",
        "\n",
        "        outputs = model(inputs)\n",
        "        loss = criterion(outputs, labels)\n",
        "        loss.backward()\n",
        "        optimizer.step()\n",
        "\n",
        "        running_loss += loss.item()\n",
        "\n",
        "        # Calculate accuracy\n",
        "        _, predicted = torch.max(outputs, 1)\n",
        "        correct_predictions += (predicted == labels).sum().item()\n",
        "        total_predictions += labels.size(0)\n",
        "\n",
        "        if i % 100 == 99:    # Print every 100 mini-batches\n",
        "            print('[%d, %5d] loss: %.3f' % (epoch + 1, i + 1, running_loss / 100))\n",
        "            training_loss_values.append(running_loss / 100)  # Append average loss for this mini-batch\n",
        "            training_accuracy_values.append(correct_predictions / total_predictions)  # Append accuracy for this mini-batch\n",
        "            running_loss = 0.0\n",
        "            correct_predictions = 0\n",
        "            total_predictions = 0\n",
        "\n",
        "print('Finished Training')"
      ],
      "metadata": {
        "id": "ky4yZe3QfvlH",
        "outputId": "fc62aef5-e140-48f6-9088-20875b907d2d",
        "colab": {
          "base_uri": "https://localhost:8080/"
        }
      },
      "execution_count": null,
      "outputs": [
        {
          "output_type": "stream",
          "name": "stdout",
          "text": [
            "[1,   100] loss: 2.307\n",
            "[1,   200] loss: 2.288\n",
            "[1,   300] loss: 2.276\n",
            "[1,   400] loss: 2.264\n",
            "[1,   500] loss: 2.250\n",
            "[1,   600] loss: 2.234\n",
            "[1,   700] loss: 2.217\n",
            "[1,   800] loss: 2.196\n",
            "[1,   900] loss: 2.178\n",
            "[2,   100] loss: 2.141\n",
            "[2,   200] loss: 2.119\n",
            "[2,   300] loss: 2.093\n",
            "[2,   400] loss: 2.058\n",
            "[2,   500] loss: 2.027\n",
            "[2,   600] loss: 1.992\n",
            "[2,   700] loss: 1.955\n",
            "[2,   800] loss: 1.907\n",
            "[2,   900] loss: 1.864\n",
            "[3,   100] loss: 1.806\n",
            "[3,   200] loss: 1.757\n",
            "[3,   300] loss: 1.703\n",
            "[3,   400] loss: 1.653\n",
            "[3,   500] loss: 1.606\n",
            "[3,   600] loss: 1.547\n",
            "[3,   700] loss: 1.508\n",
            "[3,   800] loss: 1.450\n",
            "[3,   900] loss: 1.396\n",
            "[4,   100] loss: 1.338\n",
            "[4,   200] loss: 1.286\n",
            "[4,   300] loss: 1.236\n",
            "[4,   400] loss: 1.214\n",
            "[4,   500] loss: 1.143\n",
            "[4,   600] loss: 1.120\n",
            "[4,   700] loss: 1.073\n",
            "[4,   800] loss: 1.035\n",
            "[4,   900] loss: 1.004\n",
            "[5,   100] loss: 0.975\n",
            "[5,   200] loss: 0.924\n",
            "[5,   300] loss: 0.895\n",
            "[5,   400] loss: 0.878\n",
            "[5,   500] loss: 0.859\n",
            "[5,   600] loss: 0.833\n",
            "[5,   700] loss: 0.813\n",
            "[5,   800] loss: 0.777\n",
            "[5,   900] loss: 0.779\n",
            "[6,   100] loss: 0.731\n",
            "[6,   200] loss: 0.739\n",
            "[6,   300] loss: 0.718\n",
            "[6,   400] loss: 0.699\n",
            "[6,   500] loss: 0.677\n",
            "[6,   600] loss: 0.667\n",
            "[6,   700] loss: 0.652\n",
            "[6,   800] loss: 0.644\n",
            "[6,   900] loss: 0.627\n",
            "[7,   100] loss: 0.624\n",
            "[7,   200] loss: 0.614\n",
            "[7,   300] loss: 0.607\n",
            "[7,   400] loss: 0.594\n",
            "[7,   500] loss: 0.588\n",
            "[7,   600] loss: 0.569\n",
            "[7,   700] loss: 0.553\n",
            "[7,   800] loss: 0.554\n",
            "[7,   900] loss: 0.551\n",
            "[8,   100] loss: 0.560\n",
            "[8,   200] loss: 0.528\n",
            "[8,   300] loss: 0.514\n",
            "[8,   400] loss: 0.509\n",
            "[8,   500] loss: 0.523\n",
            "[8,   600] loss: 0.510\n",
            "[8,   700] loss: 0.517\n",
            "[8,   800] loss: 0.510\n",
            "[8,   900] loss: 0.500\n",
            "[9,   100] loss: 0.490\n",
            "[9,   200] loss: 0.469\n",
            "[9,   300] loss: 0.485\n",
            "[9,   400] loss: 0.475\n",
            "[9,   500] loss: 0.486\n",
            "[9,   600] loss: 0.488\n",
            "[9,   700] loss: 0.453\n",
            "[9,   800] loss: 0.475\n",
            "[9,   900] loss: 0.467\n",
            "[10,   100] loss: 0.455\n",
            "[10,   200] loss: 0.448\n",
            "[10,   300] loss: 0.444\n",
            "[10,   400] loss: 0.438\n",
            "[10,   500] loss: 0.455\n",
            "[10,   600] loss: 0.436\n",
            "[10,   700] loss: 0.429\n",
            "[10,   800] loss: 0.457\n",
            "[10,   900] loss: 0.428\n",
            "[11,   100] loss: 0.436\n",
            "[11,   200] loss: 0.414\n",
            "[11,   300] loss: 0.414\n",
            "[11,   400] loss: 0.439\n",
            "[11,   500] loss: 0.443\n",
            "[11,   600] loss: 0.406\n",
            "[11,   700] loss: 0.411\n",
            "[11,   800] loss: 0.412\n",
            "[11,   900] loss: 0.419\n",
            "[12,   100] loss: 0.411\n",
            "[12,   200] loss: 0.401\n",
            "[12,   300] loss: 0.427\n",
            "[12,   400] loss: 0.403\n",
            "[12,   500] loss: 0.403\n",
            "[12,   600] loss: 0.404\n",
            "[12,   700] loss: 0.385\n",
            "[12,   800] loss: 0.396\n",
            "[12,   900] loss: 0.400\n",
            "[13,   100] loss: 0.399\n",
            "[13,   200] loss: 0.400\n",
            "[13,   300] loss: 0.384\n",
            "[13,   400] loss: 0.371\n",
            "[13,   500] loss: 0.393\n",
            "[13,   600] loss: 0.387\n",
            "[13,   700] loss: 0.392\n",
            "[13,   800] loss: 0.387\n",
            "[13,   900] loss: 0.393\n",
            "[14,   100] loss: 0.378\n",
            "[14,   200] loss: 0.370\n",
            "[14,   300] loss: 0.377\n",
            "[14,   400] loss: 0.384\n",
            "[14,   500] loss: 0.374\n",
            "[14,   600] loss: 0.380\n",
            "[14,   700] loss: 0.382\n",
            "[14,   800] loss: 0.369\n",
            "[14,   900] loss: 0.381\n",
            "[15,   100] loss: 0.372\n",
            "[15,   200] loss: 0.362\n",
            "[15,   300] loss: 0.355\n",
            "[15,   400] loss: 0.354\n",
            "[15,   500] loss: 0.393\n",
            "[15,   600] loss: 0.365\n",
            "[15,   700] loss: 0.370\n",
            "[15,   800] loss: 0.380\n",
            "[15,   900] loss: 0.355\n",
            "[16,   100] loss: 0.361\n",
            "[16,   200] loss: 0.351\n",
            "[16,   300] loss: 0.341\n",
            "[16,   400] loss: 0.363\n",
            "[16,   500] loss: 0.356\n",
            "[16,   600] loss: 0.367\n",
            "[16,   700] loss: 0.359\n",
            "[16,   800] loss: 0.371\n",
            "[16,   900] loss: 0.357\n",
            "[17,   100] loss: 0.362\n",
            "[17,   200] loss: 0.345\n",
            "[17,   300] loss: 0.346\n",
            "[17,   400] loss: 0.360\n",
            "[17,   500] loss: 0.365\n",
            "[17,   600] loss: 0.348\n",
            "[17,   700] loss: 0.346\n",
            "[17,   800] loss: 0.360\n",
            "[17,   900] loss: 0.331\n",
            "[18,   100] loss: 0.350\n",
            "[18,   200] loss: 0.354\n",
            "[18,   300] loss: 0.349\n",
            "[18,   400] loss: 0.342\n",
            "[18,   500] loss: 0.348\n",
            "[18,   600] loss: 0.333\n",
            "[18,   700] loss: 0.352\n",
            "[18,   800] loss: 0.329\n",
            "[18,   900] loss: 0.338\n",
            "[19,   100] loss: 0.320\n",
            "[19,   200] loss: 0.343\n",
            "[19,   300] loss: 0.351\n",
            "[19,   400] loss: 0.352\n",
            "[19,   500] loss: 0.339\n",
            "[19,   600] loss: 0.336\n",
            "[19,   700] loss: 0.338\n",
            "[19,   800] loss: 0.354\n",
            "[19,   900] loss: 0.318\n",
            "[20,   100] loss: 0.314\n",
            "[20,   200] loss: 0.339\n",
            "[20,   300] loss: 0.338\n",
            "[20,   400] loss: 0.344\n",
            "[20,   500] loss: 0.347\n",
            "[20,   600] loss: 0.337\n",
            "[20,   700] loss: 0.331\n",
            "[20,   800] loss: 0.324\n",
            "[20,   900] loss: 0.332\n",
            "Finished Training\n"
          ]
        }
      ]
    },
    {
      "cell_type": "code",
      "source": [
        "# Plot training loss and accuracy\n",
        "plt.plot(range(1, len(training_loss_values) + 1), training_loss_values, label='Training Loss')\n",
        "plt.plot(range(1, len(training_accuracy_values) + 1), training_accuracy_values, label='Training Accuracy')\n",
        "plt.xlabel('Epoch')\n",
        "plt.ylabel('Value')\n",
        "plt.title('Training Loss and Accuracy over Epochs')\n",
        "plt.legend()\n",
        "plt.grid(True)\n",
        "plt.show()"
      ],
      "metadata": {
        "colab": {
          "base_uri": "https://localhost:8080/",
          "height": 472
        },
        "id": "OpZ7x0ayJxkz",
        "outputId": "1eccfd14-ffa0-40fb-baef-6c301d9a1a5c"
      },
      "execution_count": null,
      "outputs": [
        {
          "output_type": "display_data",
          "data": {
            "text/plain": [
              "<Figure size 640x480 with 1 Axes>"
            ],
            "image/png": "[encoded data removed]"
          },
          "metadata": {}
        }
      ]
    },
    {
      "cell_type": "code",
      "source": [
        "# Evaluate the model on test data\n",
        "correct = 0\n",
        "total = 0\n",
        "with torch.no_grad():\n",
        "    for data in test_loader:\n",
        "        inputs, labels = data\n",
        "        outputs = model(inputs)\n",
        "        _, predicted = torch.max(outputs.data, 1)\n",
        "        total += labels.size(0)\n",
        "        correct += (predicted == labels).sum().item()\n",
        "\n",
        "print('Accuracy of the network on the 10000 test images: %d %%' % (100 * correct / total))"
      ],
      "metadata": {
        "id": "IysCYeJyf3yb",
        "outputId": "39a68fab-273d-4f02-dfed-ac96767bc47d",
        "colab": {
          "base_uri": "https://localhost:8080/"
        }
      },
      "execution_count": null,
      "outputs": [
        {
          "output_type": "stream",
          "name": "stdout",
          "text": [
            "Accuracy of the network on the 10000 test images: 90 %\n"
          ]
        }
      ]
    }
  ]
}