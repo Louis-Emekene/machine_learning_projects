{
  "nbformat": 4,
  "nbformat_minor": 0,
  "metadata": {
    "colab": {
      "provenance": [],
      "include_colab_link": true
    },
    "kernelspec": {
      "name": "python3",
      "display_name": "Python 3"
    },
    "language_info": {
      "name": "python"
    }
  },
  "cells": [
    {
      "cell_type": "markdown",
      "metadata": {
        "id": "view-in-github",
        "colab_type": "text"
      },
      "source": [
        "<a href=\"https://colab.research.google.com/github/Louis-Emekene/machine_learning_projects/blob/main/handwritten_digits_classifier.ipynb\" target=\"_parent\"><img src=\"https://colab.research.google.com/assets/colab-badge.svg\" alt=\"Open In Colab\"/></a>"
      ]
    },
    {
      "cell_type": "markdown",
      "source": [
        "# **HAND WRITTEN DIGITS CLASSIFIER USING AN MLP**"
      ],
      "metadata": {
        "id": "QyG232bS20me"
      }
    },
    {
      "cell_type": "markdown",
      "source": [
        "This project aims to develop a multilayer perceptron that is capable of identifying handwritten digits from 0 to 9.\n",
        "\n",
        "\n",
        "The MNIST dataset is a widely used collection of handwritten digits that is commonly employed for training various machine learning algorithms, especially in the field of computer vision. MNIST stands for Modified National Institute of Standards and Technology database. It consists of 60,000 training images and 10,000 test images, each containing grayscale images of handwritten digits from 0 to 9. The images are 28x28 pixels in size, making them relatively small and easy to work with computationally. MNIST has been a benchmark dataset in the field of machine learning for evaluating and comparing the performance of different algorithms in tasks like classification and digit recognition."
      ],
      "metadata": {
        "id": "ZiXnRB9yIuFo"
      }
    },
    {
      "cell_type": "code",
      "execution_count": 1,
      "metadata": {
        "id": "7PXY8za82bnb"
      },
      "outputs": [],
      "source": [
        "# imports here\n",
        "import numpy as np\n",
        "import pandas as pd\n",
        "import matplotlib.pyplot as plt\n",
        "import torch\n",
        "import torchvision\n",
        "import torchvision.transforms as transforms\n",
        "import torch.nn as nn\n",
        "import torch.nn.functional as F\n",
        "import torch.optim as optim\n",
        "%matplotlib inline"
      ]
    },
    {
      "cell_type": "markdown",
      "source": [
        "Transformations Definition: It defines a series of transformations (transforms.Compose) to be applied to the dataset. In this case, it converts the images into PyTorch tensors (transforms.ToTensor()) and normalizes their pixel values to a range of [-1, 1] (transforms.Normalize()).\n",
        "\n",
        "Dataset Loading: It loads the MNIST dataset, both for training (train_dataset) and testing (test_dataset). The torchvision.datasets.MNIST class is used for this purpose. The dataset is downloaded if it's not already present, and the specified transformations are applied during loading.\n",
        "\n",
        "Data Loaders Creation: It creates data loaders (train_loader and test_loader) using torch.utils.data.DataLoader. Data loaders provide convenient batch processing and shuffling of the dataset during training. Here, a batch size of 64 is specified for both training and testing data.\n",
        "\n",
        "Display Dataset Sizes: It prints the sizes of the training and test datasets. This is useful for understanding the amount of data available for training and evaluation purposes."
      ],
      "metadata": {
        "id": "X6U2wjRZFVK6"
      }
    },
    {
      "cell_type": "code",
      "source": [
        "# Define transformations to be applied to the data\n",
        "transform = transforms.Compose([\n",
        "    transforms.ToTensor(),  # Convert images to tensors\n",
        "    transforms.Normalize((0.5,), (0.5,))  # Normalize the pixel values to the range [-1, 1]\n",
        "])\n",
        "\n",
        "# Load MNIST dataset\n",
        "train_dataset = torchvision.datasets.MNIST(root='./data', train=True, download=True, transform=transform)\n",
        "test_dataset = torchvision.datasets.MNIST(root='./data', train=False, download=True, transform=transform)\n",
        "\n",
        "# Create data loaders\n",
        "train_loader = torch.utils.data.DataLoader(train_dataset, batch_size=64, shuffle=True)\n",
        "test_loader = torch.utils.data.DataLoader(test_dataset, batch_size=64, shuffle=False)\n",
        "\n",
        "# Display the size of the dataset\n",
        "print(\"Training data size:\", len(train_dataset))\n",
        "print(\"Test data size:\", len(test_dataset))"
      ],
      "metadata": {
        "id": "GA3udtpA3MyL",
        "colab": {
          "base_uri": "https://localhost:8080/"
        },
        "outputId": "d729583c-b00c-4fe0-cf07-48ce7ff82694"
      },
      "execution_count": 2,
      "outputs": [
        {
          "output_type": "stream",
          "name": "stdout",
          "text": [
            "Downloading http://yann.lecun.com/exdb/mnist/train-images-idx3-ubyte.gz\n",
            "Failed to download (trying next):\n",
            "HTTP Error 403: Forbidden\n",
            "\n",
            "Downloading https://ossci-datasets.s3.amazonaws.com/mnist/train-images-idx3-ubyte.gz\n",
            "Downloading https://ossci-datasets.s3.amazonaws.com/mnist/train-images-idx3-ubyte.gz to ./data/MNIST/raw/train-images-idx3-ubyte.gz\n"
          ]
        },
        {
          "output_type": "stream",
          "name": "stderr",
          "text": [
            "100%|██████████| 9912422/9912422 [00:01<00:00, 9513433.39it/s] \n"
          ]
        },
        {
          "output_type": "stream",
          "name": "stdout",
          "text": [
            "Extracting ./data/MNIST/raw/train-images-idx3-ubyte.gz to ./data/MNIST/raw\n",
            "\n",
            "Downloading http://yann.lecun.com/exdb/mnist/train-labels-idx1-ubyte.gz\n",
            "Failed to download (trying next):\n",
            "HTTP Error 403: Forbidden\n",
            "\n",
            "Downloading https://ossci-datasets.s3.amazonaws.com/mnist/train-labels-idx1-ubyte.gz\n",
            "Downloading https://ossci-datasets.s3.amazonaws.com/mnist/train-labels-idx1-ubyte.gz to ./data/MNIST/raw/train-labels-idx1-ubyte.gz\n"
          ]
        },
        {
          "output_type": "stream",
          "name": "stderr",
          "text": [
            "100%|██████████| 28881/28881 [00:00<00:00, 1290737.28it/s]\n"
          ]
        },
        {
          "output_type": "stream",
          "name": "stdout",
          "text": [
            "Extracting ./data/MNIST/raw/train-labels-idx1-ubyte.gz to ./data/MNIST/raw\n",
            "\n",
            "Downloading http://yann.lecun.com/exdb/mnist/t10k-images-idx3-ubyte.gz\n",
            "Failed to download (trying next):\n",
            "HTTP Error 403: Forbidden\n",
            "\n",
            "Downloading https://ossci-datasets.s3.amazonaws.com/mnist/t10k-images-idx3-ubyte.gz\n",
            "Downloading https://ossci-datasets.s3.amazonaws.com/mnist/t10k-images-idx3-ubyte.gz to ./data/MNIST/raw/t10k-images-idx3-ubyte.gz\n"
          ]
        },
        {
          "output_type": "stream",
          "name": "stderr",
          "text": [
            "100%|██████████| 1648877/1648877 [00:00<00:00, 13624204.41it/s]\n"
          ]
        },
        {
          "output_type": "stream",
          "name": "stdout",
          "text": [
            "Extracting ./data/MNIST/raw/t10k-images-idx3-ubyte.gz to ./data/MNIST/raw\n",
            "\n",
            "Downloading http://yann.lecun.com/exdb/mnist/t10k-labels-idx1-ubyte.gz\n",
            "Failed to download (trying next):\n",
            "HTTP Error 403: Forbidden\n",
            "\n",
            "Downloading https://ossci-datasets.s3.amazonaws.com/mnist/t10k-labels-idx1-ubyte.gz\n",
            "Downloading https://ossci-datasets.s3.amazonaws.com/mnist/t10k-labels-idx1-ubyte.gz to ./data/MNIST/raw/t10k-labels-idx1-ubyte.gz\n"
          ]
        },
        {
          "output_type": "stream",
          "name": "stderr",
          "text": [
            "100%|██████████| 4542/4542 [00:00<00:00, 909419.93it/s]\n"
          ]
        },
        {
          "output_type": "stream",
          "name": "stdout",
          "text": [
            "Extracting ./data/MNIST/raw/t10k-labels-idx1-ubyte.gz to ./data/MNIST/raw\n",
            "\n",
            "Training data size: 60000\n",
            "Test data size: 10000\n"
          ]
        }
      ]
    },
    {
      "cell_type": "code",
      "source": [
        "# Get 5 random samples from the training dataset\n",
        "samples = [train_dataset[i] for i in range(5)]\n",
        "\n",
        "# Plot the samples\n",
        "plt.figure(figsize=(10, 5))\n",
        "for i in range(5):\n",
        "    plt.subplot(1, 5, i + 1)\n",
        "    image, label = samples[i]\n",
        "    plt.imshow(image.squeeze(), cmap='gray')\n",
        "    plt.title(f\"Label: {label}\")\n",
        "    plt.axis('off')\n",
        "plt.show()"
      ],
      "metadata": {
        "colab": {
          "base_uri": "https://localhost:8080/",
          "height": 192
        },
        "id": "IO4I0ygmWVTY",
        "outputId": "fbf18281-c7d5-457c-efbe-2ca740b9bba7"
      },
      "execution_count": 3,
      "outputs": [
        {
          "output_type": "display_data",
          "data": {
            "text/plain": [
              "<Figure size 1000x500 with 5 Axes>"
            ],
            "image/png": "[encoded data removed]"
          },
          "metadata": {}
        }
      ]
    },
    {
      "cell_type": "code",
      "source": [
        "# Get 5 random samples from the test dataset\n",
        "samples = [test_dataset[i] for i in range(5)]\n",
        "\n",
        "# Plot the samples\n",
        "plt.figure(figsize=(10, 5))\n",
        "for i in range(5):\n",
        "    plt.subplot(1, 5, i + 1)\n",
        "    image, label = samples[i]\n",
        "    plt.imshow(image.squeeze(), cmap='gray')\n",
        "    plt.title(f\"Label: {label}\")\n",
        "    plt.axis('off')\n",
        "plt.show()"
      ],
      "metadata": {
        "colab": {
          "base_uri": "https://localhost:8080/",
          "height": 192
        },
        "id": "hKFkeNB8Wgt3",
        "outputId": "a1144319-635d-45f5-fb08-e754f9c451e0"
      },
      "execution_count": 4,
      "outputs": [
        {
          "output_type": "display_data",
          "data": {
            "text/plain": [
              "<Figure size 1000x500 with 5 Axes>"
            ],
            "image/png": "[encoded data removed]"
          },
          "metadata": {}
        }
      ]
    },
    {
      "cell_type": "code",
      "source": [
        "# Define a simple MLP model\n",
        "class MLP(nn.Module):\n",
        "    def __init__(self):\n",
        "        super(MLP, self).__init__()\n",
        "        self.fc1 = nn.Linear(28*28, 128)\n",
        "        self.fc2 = nn.Linear(128, 64)\n",
        "        self.fc3 = nn.Linear(64, 10)\n",
        "\n",
        "    def forward(self, x):\n",
        "        x = x.view(-1, 28*28)  # Flatten the input image\n",
        "        x = F.relu(self.fc1(x))\n",
        "        x = F.relu(self.fc2(x))\n",
        "        x = self.fc3(x)\n",
        "        return x"
      ],
      "metadata": {
        "id": "YbIjSEkCW5g2"
      },
      "execution_count": 5,
      "outputs": []
    },
    {
      "cell_type": "code",
      "source": [
        "import matplotlib.pyplot as plt\n",
        "\n",
        "# Initialize the model, loss function, and optimizer\n",
        "model = MLP()\n",
        "criterion = nn.CrossEntropyLoss()\n",
        "optimizer = optim.SGD(model.parameters(), lr=0.001)\n",
        "\n",
        "# Lists to store training loss and accuracy values\n",
        "training_loss_values = []\n",
        "training_accuracy_values = []\n",
        "\n",
        "# Training loop\n",
        "for epoch in range(20):  # number of epochs needed for training\n",
        "    running_loss = 0.0\n",
        "    correct_predictions = 0\n",
        "    total_predictions = 0\n",
        "\n",
        "    for i, data in enumerate(train_loader, 0):\n",
        "        inputs, labels = data\n",
        "        optimizer.zero_grad()\n",
        "\n",
        "        outputs = model(inputs)\n",
        "        loss = criterion(outputs, labels)\n",
        "        loss.backward()\n",
        "        optimizer.step()\n",
        "\n",
        "        running_loss += loss.item()\n",
        "\n",
        "        # Calculate accuracy\n",
        "        _, predicted = torch.max(outputs, 1)\n",
        "        correct_predictions += (predicted == labels).sum().item()\n",
        "        total_predictions += labels.size(0)\n",
        "\n",
        "        if i % 100 == 99:    # Print every 100 mini-batches\n",
        "            print('[%d, %5d] loss: %.3f' % (epoch + 1, i + 1, running_loss / 100))\n",
        "            training_loss_values.append(running_loss / 100)  # Append average loss for this mini-batch\n",
        "            training_accuracy_values.append(correct_predictions / total_predictions)  # Append accuracy for this mini-batch\n",
        "            running_loss = 0.0\n",
        "            correct_predictions = 0\n",
        "            total_predictions = 0\n",
        "\n",
        "print('Finished Training')"
      ],
      "metadata": {
        "id": "ky4yZe3QfvlH",
        "outputId": "2820ac61-d838-4aed-b28a-a49f2ba83ff4",
        "colab": {
          "base_uri": "https://localhost:8080/"
        }
      },
      "execution_count": 6,
      "outputs": [
        {
          "output_type": "stream",
          "name": "stdout",
          "text": [
            "[1,   100] loss: 2.304\n",
            "[1,   200] loss: 2.288\n",
            "[1,   300] loss: 2.274\n",
            "[1,   400] loss: 2.261\n",
            "[1,   500] loss: 2.247\n",
            "[1,   600] loss: 2.229\n",
            "[1,   700] loss: 2.215\n",
            "[1,   800] loss: 2.191\n",
            "[1,   900] loss: 2.169\n",
            "[2,   100] loss: 2.139\n",
            "[2,   200] loss: 2.111\n",
            "[2,   300] loss: 2.081\n",
            "[2,   400] loss: 2.055\n",
            "[2,   500] loss: 2.021\n",
            "[2,   600] loss: 1.982\n",
            "[2,   700] loss: 1.939\n",
            "[2,   800] loss: 1.897\n",
            "[2,   900] loss: 1.854\n",
            "[3,   100] loss: 1.786\n",
            "[3,   200] loss: 1.746\n",
            "[3,   300] loss: 1.691\n",
            "[3,   400] loss: 1.645\n",
            "[3,   500] loss: 1.593\n",
            "[3,   600] loss: 1.547\n",
            "[3,   700] loss: 1.493\n",
            "[3,   800] loss: 1.445\n",
            "[3,   900] loss: 1.384\n",
            "[4,   100] loss: 1.329\n",
            "[4,   200] loss: 1.280\n",
            "[4,   300] loss: 1.222\n",
            "[4,   400] loss: 1.186\n",
            "[4,   500] loss: 1.155\n",
            "[4,   600] loss: 1.104\n",
            "[4,   700] loss: 1.083\n",
            "[4,   800] loss: 1.035\n",
            "[4,   900] loss: 1.010\n",
            "[5,   100] loss: 0.972\n",
            "[5,   200] loss: 0.931\n",
            "[5,   300] loss: 0.911\n",
            "[5,   400] loss: 0.880\n",
            "[5,   500] loss: 0.862\n",
            "[5,   600] loss: 0.832\n",
            "[5,   700] loss: 0.812\n",
            "[5,   800] loss: 0.796\n",
            "[5,   900] loss: 0.784\n",
            "[6,   100] loss: 0.745\n",
            "[6,   200] loss: 0.744\n",
            "[6,   300] loss: 0.729\n",
            "[6,   400] loss: 0.707\n",
            "[6,   500] loss: 0.695\n",
            "[6,   600] loss: 0.683\n",
            "[6,   700] loss: 0.672\n",
            "[6,   800] loss: 0.659\n",
            "[6,   900] loss: 0.652\n",
            "[7,   100] loss: 0.644\n",
            "[7,   200] loss: 0.627\n",
            "[7,   300] loss: 0.625\n",
            "[7,   400] loss: 0.592\n",
            "[7,   500] loss: 0.591\n",
            "[7,   600] loss: 0.595\n",
            "[7,   700] loss: 0.588\n",
            "[7,   800] loss: 0.589\n",
            "[7,   900] loss: 0.552\n",
            "[8,   100] loss: 0.556\n",
            "[8,   200] loss: 0.554\n",
            "[8,   300] loss: 0.530\n",
            "[8,   400] loss: 0.554\n",
            "[8,   500] loss: 0.559\n",
            "[8,   600] loss: 0.527\n",
            "[8,   700] loss: 0.518\n",
            "[8,   800] loss: 0.525\n",
            "[8,   900] loss: 0.516\n",
            "[9,   100] loss: 0.521\n",
            "[9,   200] loss: 0.487\n",
            "[9,   300] loss: 0.522\n",
            "[9,   400] loss: 0.496\n",
            "[9,   500] loss: 0.496\n",
            "[9,   600] loss: 0.488\n",
            "[9,   700] loss: 0.486\n",
            "[9,   800] loss: 0.482\n",
            "[9,   900] loss: 0.461\n",
            "[10,   100] loss: 0.464\n",
            "[10,   200] loss: 0.478\n",
            "[10,   300] loss: 0.460\n",
            "[10,   400] loss: 0.463\n",
            "[10,   500] loss: 0.461\n",
            "[10,   600] loss: 0.468\n",
            "[10,   700] loss: 0.441\n",
            "[10,   800] loss: 0.472\n",
            "[10,   900] loss: 0.446\n",
            "[11,   100] loss: 0.461\n",
            "[11,   200] loss: 0.449\n",
            "[11,   300] loss: 0.445\n",
            "[11,   400] loss: 0.441\n",
            "[11,   500] loss: 0.434\n",
            "[11,   600] loss: 0.411\n",
            "[11,   700] loss: 0.438\n",
            "[11,   800] loss: 0.427\n",
            "[11,   900] loss: 0.423\n",
            "[12,   100] loss: 0.442\n",
            "[12,   200] loss: 0.424\n",
            "[12,   300] loss: 0.424\n",
            "[12,   400] loss: 0.422\n",
            "[12,   500] loss: 0.407\n",
            "[12,   600] loss: 0.419\n",
            "[12,   700] loss: 0.401\n",
            "[12,   800] loss: 0.405\n",
            "[12,   900] loss: 0.411\n",
            "[13,   100] loss: 0.413\n",
            "[13,   200] loss: 0.405\n",
            "[13,   300] loss: 0.408\n",
            "[13,   400] loss: 0.420\n",
            "[13,   500] loss: 0.415\n",
            "[13,   600] loss: 0.393\n",
            "[13,   700] loss: 0.389\n",
            "[13,   800] loss: 0.392\n",
            "[13,   900] loss: 0.390\n",
            "[14,   100] loss: 0.389\n",
            "[14,   200] loss: 0.398\n",
            "[14,   300] loss: 0.395\n",
            "[14,   400] loss: 0.390\n",
            "[14,   500] loss: 0.380\n",
            "[14,   600] loss: 0.395\n",
            "[14,   700] loss: 0.382\n",
            "[14,   800] loss: 0.387\n",
            "[14,   900] loss: 0.381\n",
            "[15,   100] loss: 0.389\n",
            "[15,   200] loss: 0.388\n",
            "[15,   300] loss: 0.403\n",
            "[15,   400] loss: 0.384\n",
            "[15,   500] loss: 0.376\n",
            "[15,   600] loss: 0.368\n",
            "[15,   700] loss: 0.362\n",
            "[15,   800] loss: 0.371\n",
            "[15,   900] loss: 0.369\n",
            "[16,   100] loss: 0.369\n",
            "[16,   200] loss: 0.382\n",
            "[16,   300] loss: 0.369\n",
            "[16,   400] loss: 0.365\n",
            "[16,   500] loss: 0.359\n",
            "[16,   600] loss: 0.378\n",
            "[16,   700] loss: 0.376\n",
            "[16,   800] loss: 0.366\n",
            "[16,   900] loss: 0.369\n",
            "[17,   100] loss: 0.361\n",
            "[17,   200] loss: 0.341\n",
            "[17,   300] loss: 0.365\n",
            "[17,   400] loss: 0.364\n",
            "[17,   500] loss: 0.346\n",
            "[17,   600] loss: 0.378\n",
            "[17,   700] loss: 0.346\n",
            "[17,   800] loss: 0.362\n",
            "[17,   900] loss: 0.370\n",
            "[18,   100] loss: 0.350\n",
            "[18,   200] loss: 0.338\n",
            "[18,   300] loss: 0.368\n",
            "[18,   400] loss: 0.362\n",
            "[18,   500] loss: 0.359\n",
            "[18,   600] loss: 0.369\n",
            "[18,   700] loss: 0.353\n",
            "[18,   800] loss: 0.341\n",
            "[18,   900] loss: 0.352\n",
            "[19,   100] loss: 0.346\n",
            "[19,   200] loss: 0.351\n",
            "[19,   300] loss: 0.353\n",
            "[19,   400] loss: 0.341\n",
            "[19,   500] loss: 0.347\n",
            "[19,   600] loss: 0.348\n",
            "[19,   700] loss: 0.337\n",
            "[19,   800] loss: 0.333\n",
            "[19,   900] loss: 0.370\n",
            "[20,   100] loss: 0.348\n",
            "[20,   200] loss: 0.347\n",
            "[20,   300] loss: 0.331\n",
            "[20,   400] loss: 0.354\n",
            "[20,   500] loss: 0.353\n",
            "[20,   600] loss: 0.326\n",
            "[20,   700] loss: 0.338\n",
            "[20,   800] loss: 0.331\n",
            "[20,   900] loss: 0.347\n",
            "Finished Training\n"
          ]
        }
      ]
    },
    {
      "cell_type": "code",
      "source": [
        "# Plot training loss and accuracy\n",
        "plt.plot(range(1, len(training_loss_values) + 1), training_loss_values, label='Training Loss')\n",
        "plt.plot(range(1, len(training_accuracy_values) + 1), training_accuracy_values, label='Training Accuracy')\n",
        "plt.xlabel('Epoch')\n",
        "plt.ylabel('Value')\n",
        "plt.title('Training Loss and Accuracy over Epochs')\n",
        "plt.legend()\n",
        "plt.grid(True)\n",
        "plt.show()"
      ],
      "metadata": {
        "colab": {
          "base_uri": "https://localhost:8080/",
          "height": 472
        },
        "id": "OpZ7x0ayJxkz",
        "outputId": "e2699dd2-f5f9-4fcd-c973-c506bc6689a8"
      },
      "execution_count": 7,
      "outputs": [
        {
          "output_type": "display_data",
          "data": {
            "text/plain": [
              "<Figure size 640x480 with 1 Axes>"
            ],
            "image/png": "[encoded data removed]"
          },
          "metadata": {}
        }
      ]
    },
    {
      "cell_type": "code",
      "source": [
        "# Evaluate the model on test data\n",
        "correct = 0\n",
        "total = 0\n",
        "with torch.no_grad():\n",
        "    for data in test_loader:\n",
        "        inputs, labels = data\n",
        "        outputs = model(inputs)\n",
        "        _, predicted = torch.max(outputs.data, 1)\n",
        "        total += labels.size(0)\n",
        "        correct += (predicted == labels).sum().item()\n",
        "\n",
        "print('Accuracy of the network on the 10000 test images= %d %%' % (100 * correct / total))"
      ],
      "metadata": {
        "id": "IysCYeJyf3yb",
        "outputId": "f08558db-c1e4-4806-d8ab-0db7d04b910b",
        "colab": {
          "base_uri": "https://localhost:8080/"
        }
      },
      "execution_count": 8,
      "outputs": [
        {
          "output_type": "stream",
          "name": "stdout",
          "text": [
            "Accuracy of the network on the 10000 test images= 90 %\n"
          ]
        }
      ]
    }
  ]
}